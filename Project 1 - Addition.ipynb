{
 "cells": [
  {
   "cell_type": "markdown",
   "metadata": {
    "collapsed": true
   },
   "source": [
    "## Addition arithmatic\n"
   ]
  },
  {
   "cell_type": "code",
   "execution_count": 1,
   "metadata": {},
   "outputs": [
    {
     "name": "stderr",
     "output_type": "stream",
     "text": [
      "Using TensorFlow backend.\n"
     ]
    }
   ],
   "source": [
    "%matplotlib inline\n",
    "import matplotlib.pyplot as plt\n",
    "\n",
    "import keras\n",
    "from keras.models import Model, Sequential\n",
    "from keras.layers import *\n",
    "from keras.optimizers import Adam\n",
    "import keras.backend as K\n",
    "\n",
    "import tensorflow as tf\n",
    "import numpy as np"
   ]
  },
  {
   "cell_type": "code",
   "execution_count": 2,
   "metadata": {},
   "outputs": [
    {
     "name": "stdout",
     "output_type": "stream",
     "text": [
      "2.0.8\n",
      "1.3.0\n"
     ]
    }
   ],
   "source": [
    "print(keras.__version__)\n",
    "print(tf.__version__)"
   ]
  },
  {
   "cell_type": "markdown",
   "metadata": {},
   "source": [
    "### Dataset"
   ]
  },
  {
   "cell_type": "code",
   "execution_count": 3,
   "metadata": {},
   "outputs": [
    {
     "data": {
      "text/plain": [
       "(60000, 28, 28)"
      ]
     },
     "execution_count": 3,
     "metadata": {},
     "output_type": "execute_result"
    }
   ],
   "source": [
    "from keras.datasets import mnist\n",
    "\n",
    "(x_train, y_train), (x_test, y_test) = mnist.load_data()\n",
    "x_train.shape"
   ]
  },
  {
   "cell_type": "code",
   "execution_count": 4,
   "metadata": {},
   "outputs": [
    {
     "name": "stdout",
     "output_type": "stream",
     "text": [
      "(1010000,)\n",
      "(1010000,)\n",
      "[ 0.  0.  0.  0.  0.  0.  0.  0.  0.  0.  0.  0.  0.  0.  0.  0.  0.  0.\n",
      "  0.  0.  0.  0.  0.  0.  0.  0.  0.  0.  0.  0.  0.  0.  0.  0.  0.  0.\n",
      "  0.  0.  0.  0.  0.  0.  0.  0.  0.  0.  0.  0.  0.  0.  0.  0.  0.  0.\n",
      "  0.  0.  0.  0.  0.  0.  0.  0.  0.  0.  0.  0.  0.  0.  0.  0.  0.  0.\n",
      "  0.  0.  0.  0.  0.  0.  0.  0.  0.  0.  0.  0.  0.  0.  0.  0.  0.  0.\n",
      "  0.  0.  0.  0.  0.  0.  0.  0.  0.  0.  0.  0.  0.  0.  0.  0.  0.  0.\n",
      "  0.  0.  0.  0.  0.  0.  0.  0.  0.  0.  0.  0.  0.  1.  0.  0.  0.  0.\n",
      "  0.  0.  0.  0.  0.  0.  0.  0.  0.  0.  0.  0.  0.  0.  0.  0.  0.  0.\n",
      "  0.  0.  0.  0.  0.  0.  0.  0.  0.  0.  0.  0.  0.  0.  0.  0.  0.  0.\n",
      "  0.  0.  0.  0.  0.  0.  0.  0.  0.  0.  0.  0.  0.  0.  0.  0.  0.  0.\n",
      "  0.  0.  0.  0.  0.  0.  0.  0.  0.  0.  0.  0.  0.  0.  0.  0.  0.  0.\n",
      "  0.  0.  0.]\n"
     ]
    }
   ],
   "source": [
    "import random\n",
    "\n",
    "input_range = range(0, 101)\n",
    "n_classes = 201\n",
    "\n",
    "x1_train = []\n",
    "x2_train = []\n",
    "for i in range(0,10000):\n",
    "    x1_train.extend(input_range)\n",
    "    x2_train.extend(input_range)\n",
    "\n",
    "random.shuffle(x1_train)\n",
    "random.shuffle(x2_train)\n",
    "\n",
    "y_train = []\n",
    "\n",
    "for i, val in enumerate(x1_train):\n",
    "    y_train.insert(i, val + x2_train[i])\n",
    "    \n",
    "\n",
    "y_train = keras.utils.to_categorical(y_train, n_classes)\n",
    "x1_train = np.array(x1_train)\n",
    "x2_train = np.array(x2_train)\n",
    "\n",
    "print(x1_train.shape)\n",
    "print(x2_train.shape)\n",
    "\n",
    "print(y_train[0])"
   ]
  },
  {
   "cell_type": "code",
   "execution_count": 5,
   "metadata": {},
   "outputs": [
    {
     "name": "stdout",
     "output_type": "stream",
     "text": [
      "(20200,)\n",
      "(20200,)\n",
      "[ 0.  0.  0.  0.  0.  0.  0.  0.  0.  0.  0.  0.  0.  0.  0.  0.  0.  0.\n",
      "  0.  0.  1.  0.  0.  0.  0.  0.  0.  0.  0.  0.  0.  0.  0.  0.  0.  0.\n",
      "  0.  0.  0.  0.  0.  0.  0.  0.  0.  0.  0.  0.  0.  0.  0.  0.  0.  0.\n",
      "  0.  0.  0.  0.  0.  0.  0.  0.  0.  0.  0.  0.  0.  0.  0.  0.  0.  0.\n",
      "  0.  0.  0.  0.  0.  0.  0.  0.  0.  0.  0.  0.  0.  0.  0.  0.  0.  0.\n",
      "  0.  0.  0.  0.  0.  0.  0.  0.  0.  0.  0.  0.  0.  0.  0.  0.  0.  0.\n",
      "  0.  0.  0.  0.  0.  0.  0.  0.  0.  0.  0.  0.  0.  0.  0.  0.  0.  0.\n",
      "  0.  0.  0.  0.  0.  0.  0.  0.  0.  0.  0.  0.  0.  0.  0.  0.  0.  0.\n",
      "  0.  0.  0.  0.  0.  0.  0.  0.  0.  0.  0.  0.  0.  0.  0.  0.  0.  0.\n",
      "  0.  0.  0.  0.  0.  0.  0.  0.  0.  0.  0.  0.  0.  0.  0.  0.  0.  0.\n",
      "  0.  0.  0.  0.  0.  0.  0.  0.  0.  0.  0.  0.  0.  0.  0.  0.  0.  0.\n",
      "  0.  0.  0.]\n"
     ]
    }
   ],
   "source": [
    "x1_test = []\n",
    "x2_test = []\n",
    "\n",
    "for i in range(0,200):\n",
    "    x1_test.extend(input_range)\n",
    "    x2_test.extend(input_range)\n",
    "\n",
    "random.shuffle(x2_test)\n",
    "random.shuffle(x2_test)\n",
    "\n",
    "y_test = []\n",
    "\n",
    "for i, val in enumerate(x1_test):\n",
    "    y_test.insert(i, val + x2_test[i])\n",
    "    \n",
    "\n",
    "y_test = keras.utils.to_categorical(y_test, n_classes)\n",
    "x1_test = np.array(x1_test)\n",
    "x2_test = np.array(x2_test)\n",
    "\n",
    "print(x1_test.shape)\n",
    "print(x2_test.shape)\n",
    "\n",
    "print(y_test[0])"
   ]
  },
  {
   "cell_type": "code",
   "execution_count": 47,
   "metadata": {},
   "outputs": [
    {
     "name": "stdout",
     "output_type": "stream",
     "text": [
      "[0.01, 0.95999999999999996]\n",
      "97\n"
     ]
    }
   ],
   "source": [
    "x_test = []\n",
    "x_train = []\n",
    "\n",
    "for i,x1 in enumerate(x1_test):\n",
    "    x_test.append([x1/100, x2_test[i]/100])\n",
    "    \n",
    "for i, x1 in enumerate(x1_train):\n",
    "    x_train.append([x1/100, x2_train[i]/100])\n",
    "    \n",
    "print(x_test[1])\n",
    "print(np.argmax(y_test[1]))"
   ]
  },
  {
   "cell_type": "code",
   "execution_count": 4,
   "metadata": {},
   "outputs": [
    {
     "name": "stdout",
     "output_type": "stream",
     "text": [
      "(60000, 784) train samples\n",
      "(10000, 784) test samples\n"
     ]
    },
    {
     "data": {
      "text/plain": [
       "array([ 0.,  0.,  0.,  0.,  0.,  1.,  0.,  0.,  0.,  0.])"
      ]
     },
     "execution_count": 4,
     "metadata": {},
     "output_type": "execute_result"
    }
   ],
   "source": [
    "x_train = x_train.reshape(60000, 784)\n",
    "x_test = x_test.reshape(10000, 784)\n",
    "x_train = x_train.astype('float32')\n",
    "x_test = x_test.astype('float32')\n",
    "x_train /= 255\n",
    "x_test /= 255\n",
    "print(x_train.shape, 'train samples')\n",
    "print(x_test.shape, 'test samples')\n",
    "\n",
    "n_classes = 10\n",
    "# convert class vectors to binary One Hot Encoded\n",
    "y_train = keras.utils.to_categorical(y_train, n_classes)\n",
    "y_test = keras.utils.to_categorical(y_test, n_classes)\n",
    "y_train[0]"
   ]
  },
  {
   "cell_type": "markdown",
   "metadata": {},
   "source": [
    "### Setting up our Network Hyper Parameters"
   ]
  },
  {
   "cell_type": "code",
   "execution_count": 52,
   "metadata": {
    "collapsed": true
   },
   "outputs": [],
   "source": [
    "# Training Parameters for basic MNIST\n",
    "learning_rate = 0.1 \n",
    "training_epochs = 10\n",
    "batch_size = 100\n",
    "\n",
    "# Network Parameters\n",
    "n_input1 = len(x1_train)\n",
    "n_input2 = len(x2_train)\n",
    "n_hidden_1 = 100 # 1st layer number of neurons\n",
    "n_hidden_2 = 50 # 2nd layer number of neurons\n",
    "n_hidden_3 = 10 # 2nd layer number of neurons\n",
    "n_hidden_4 = 200 # 2nd layer number of neurons\n",
    "n_hidden_5 = 100 # 2nd layer number of neurons\n",
    "#n_classes = 10 # MNIST classes for prediction(digits 0-9 )\n"
   ]
  },
  {
   "cell_type": "markdown",
   "metadata": {},
   "source": [
    "### This time we are going to make a functional model instead of a sequential model"
   ]
  },
  {
   "cell_type": "code",
   "execution_count": 53,
   "metadata": {
    "collapsed": true
   },
   "outputs": [],
   "source": [
    "Inp1 = Input(shape=(2,))\n",
    "Inp2 = Input(shape=(1,))\n",
    "Inp = keras.layers.concatenate([Inp1, Inp2])\n",
    "x = Dense(n_hidden_1, activation='relu', name = \"Dense_1\")(Inp1)\n",
    "x = Dropout(0.3)(x)\n",
    "x = Dense(n_hidden_2, activation='relu', name = \"Dense_2\")(x)\n",
    "\n",
    "output = Dense(n_classes, activation='softmax', name = \"Outputlayer\")(x)\n"
   ]
  },
  {
   "cell_type": "code",
   "execution_count": 54,
   "metadata": {
    "collapsed": true
   },
   "outputs": [],
   "source": [
    "# This creates a model that includes our input, 3 dense hidden layers, output layer\n",
    "model = Model(inputs=Inp1, outputs=output)"
   ]
  },
  {
   "cell_type": "code",
   "execution_count": 55,
   "metadata": {},
   "outputs": [
    {
     "name": "stdout",
     "output_type": "stream",
     "text": [
      "_________________________________________________________________\n",
      "Layer (type)                 Output Shape              Param #   \n",
      "=================================================================\n",
      "input_11 (InputLayer)        (None, 2)                 0         \n",
      "_________________________________________________________________\n",
      "Dense_1 (Dense)              (None, 100)               300       \n",
      "_________________________________________________________________\n",
      "dropout_13 (Dropout)         (None, 100)               0         \n",
      "_________________________________________________________________\n",
      "Dense_2 (Dense)              (None, 50)                5050      \n",
      "_________________________________________________________________\n",
      "Outputlayer (Dense)          (None, 201)               10251     \n",
      "=================================================================\n",
      "Total params: 15,601\n",
      "Trainable params: 15,601\n",
      "Non-trainable params: 0\n",
      "_________________________________________________________________\n"
     ]
    }
   ],
   "source": [
    "model.summary()"
   ]
  },
  {
   "cell_type": "code",
   "execution_count": 56,
   "metadata": {
    "collapsed": true
   },
   "outputs": [],
   "source": [
    "model.compile(loss='categorical_crossentropy',\n",
    "              optimizer='SGD',\n",
    "              metrics=['accuracy'])"
   ]
  },
  {
   "cell_type": "code",
   "execution_count": 57,
   "metadata": {
    "collapsed": true
   },
   "outputs": [],
   "source": [
    "K.set_value(model.optimizer.lr, learning_rate)"
   ]
  },
  {
   "cell_type": "code",
   "execution_count": 58,
   "metadata": {},
   "outputs": [
    {
     "name": "stdout",
     "output_type": "stream",
     "text": [
      "Train on 1010000 samples, validate on 20200 samples\n",
      "Epoch 1/10\n",
      "1010000/1010000 [==============================] - 54s - loss: 3.7805 - acc: 0.0533 - val_loss: 3.0230 - val_acc: 0.1390\n",
      "Epoch 2/10\n",
      "1010000/1010000 [==============================] - 54s - loss: 2.9684 - acc: 0.1026 - val_loss: 2.5855 - val_acc: 0.1780\n",
      "Epoch 3/10\n",
      "1010000/1010000 [==============================] - 54s - loss: 2.6847 - acc: 0.1333 - val_loss: 2.3551 - val_acc: 0.2314\n",
      "Epoch 4/10\n",
      "1010000/1010000 [==============================] - 54s - loss: 2.5143 - acc: 0.1553 - val_loss: 2.1966 - val_acc: 0.2329\n",
      "Epoch 5/10\n",
      "1010000/1010000 [==============================] - 54s - loss: 2.3968 - acc: 0.1731 - val_loss: 2.1166 - val_acc: 0.2832\n",
      "Epoch 6/10\n",
      "1010000/1010000 [==============================] - 54s - loss: 2.3088 - acc: 0.1886 - val_loss: 2.0297 - val_acc: 0.2899\n",
      "Epoch 7/10\n",
      "1010000/1010000 [==============================] - 54s - loss: 2.2407 - acc: 0.2010 - val_loss: 2.0153 - val_acc: 0.2935\n",
      "Epoch 8/10\n",
      "1010000/1010000 [==============================] - 55s - loss: 2.1910 - acc: 0.2113 - val_loss: 2.0255 - val_acc: 0.3166\n",
      "Epoch 9/10\n",
      "1010000/1010000 [==============================] - 55s - loss: 2.1423 - acc: 0.2213 - val_loss: 2.1891 - val_acc: 0.2924\n",
      "Epoch 10/10\n",
      "1010000/1010000 [==============================] - 54s - loss: 2.0982 - acc: 0.2306 - val_loss: 2.1952 - val_acc: 0.3030\n"
     ]
    }
   ],
   "source": [
    "history = model.fit(x_train, y_train,\n",
    "                    batch_size=100,\n",
    "                    epochs=training_epochs,\n",
    "                    verbose=1, # This is for what we want it to display out as it trains \n",
    "                    validation_data=(x_test, y_test))"
   ]
  },
  {
   "cell_type": "code",
   "execution_count": 37,
   "metadata": {
    "collapsed": true
   },
   "outputs": [],
   "source": [
    "def plot_train(hist):\n",
    "    h = hist.history\n",
    "    if 'acc' in h:\n",
    "        meas='acc'\n",
    "        loc='lower right'\n",
    "    else:\n",
    "        meas='loss'\n",
    "        loc='upper right'\n",
    "    plt.plot(hist.history[meas])\n",
    "    plt.plot(hist.history['val_'+meas])\n",
    "    plt.title('model '+meas)\n",
    "    plt.ylabel(meas)\n",
    "    plt.xlabel('epoch')\n",
    "    plt.legend(['train', 'validation'], loc=loc)\n",
    "    "
   ]
  },
  {
   "cell_type": "code",
   "execution_count": 46,
   "metadata": {},
   "outputs": [
    {
     "name": "stdout",
     "output_type": "stream",
     "text": [
      "{'val_loss': [5.1149439079926742, 5.1119709368979578, 5.1111823143345294, 5.1110822351852265, 5.1106973709446368, 5.1105499503636125, 5.1106344544061342, 5.1108510871924979, 5.1106917574854176, 5.1107806876154225], 'val_acc': [0.0099999997857035984, 0.0099999997764825821, 0.010198019574036692, 0.0095049502825973065, 0.010198019574036692, 0.010198019574036692, 0.010198019574036692, 0.00995049483631507, 0.0092574255356546679, 0.0092574255356546679], 'loss': [5.1448815959987071, 5.116229153482041, 5.1147842832130959, 5.1143855371097526, 5.1142045184881377, 5.1141402079327269, 5.1140708517320084, 5.1140671976958174, 5.1140381639310633, 5.1140452922216735], 'acc': [0.0096851483035353143, 0.0096801978087808823, 0.0098594057248296719, 0.0096574255322465809, 0.0098326730527131274, 0.009757425530564667, 0.009763366121724985, 0.0097009898873396446, 0.0098999997833282647, 0.0096346532551590171]}\n"
     ]
    },
    {
     "data": {
      "image/png": "[encoded data removed]",
      "text/plain": [
       "<matplotlib.figure.Figure at 0x29c26acfa90>"
      ]
     },
     "metadata": {},
     "output_type": "display_data"
    }
   ],
   "source": [
    "print(history.history)\n",
    "plot_train(history)"
   ]
  },
  {
   "cell_type": "code",
   "execution_count": 70,
   "metadata": {},
   "outputs": [
    {
     "name": "stdout",
     "output_type": "stream",
     "text": [
      "0.0143883\n",
      "0.0143216\n",
      "0.0143472\n",
      "0.0143416\n"
     ]
    }
   ],
   "source": [
    "pred = model.predict([x1_test[0:4], x2_test[0:4]] )\n",
    "pred\n",
    "for p in pred:\n",
    "    print(p[(np.argmax(p))])\n",
    "#score = model.evaluate(x_test, y_test, verbose=0)\n",
    "#print('Test loss:', score[0])\n",
    "#print('Test accuracy:', score[1])"
   ]
  }
 ],
 "metadata": {
  "kernelspec": {
   "display_name": "Python 3",
   "language": "python",
   "name": "python3"
  },
  "language_info": {
   "codemirror_mode": {
    "name": "ipython",
    "version": 3
   },
   "file_extension": ".py",
   "mimetype": "text/x-python",
   "name": "python",
   "nbconvert_exporter": "python",
   "pygments_lexer": "ipython3",
   "version": "3.6.1"
  }
 },
 "nbformat": 4,
 "nbformat_minor": 2
}
